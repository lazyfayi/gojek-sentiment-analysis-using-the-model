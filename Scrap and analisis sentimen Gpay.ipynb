{
 "cells": [
  {
   "cell_type": "code",
   "execution_count": 4,
   "id": "f7434e2d",
   "metadata": {},
   "outputs": [
    {
     "name": "stdout",
     "output_type": "stream",
     "text": [
      "Collecting google-play-scraper\n",
      "  Downloading google_play_scraper-1.2.4-py3-none-any.whl (28 kB)\n",
      "Installing collected packages: google-play-scraper\n",
      "Successfully installed google-play-scraper-1.2.4\n"
     ]
    }
   ],
   "source": [
    "!pip install google-play-scraper"
   ]
  },
  {
   "cell_type": "code",
   "execution_count": 5,
   "id": "7e406d02",
   "metadata": {},
   "outputs": [],
   "source": [
    "from google_play_scraper import app\n",
    "import pandas as pd\n",
    "import numpy as np"
   ]
  },
  {
   "cell_type": "markdown",
   "id": "a957df23",
   "metadata": {},
   "source": [
    "### Scraping Data"
   ]
  },
  {
   "cell_type": "code",
   "execution_count": 11,
   "id": "3ea813a4",
   "metadata": {},
   "outputs": [],
   "source": [
    "from google_play_scraper import Sort, reviews\n",
    "\n",
    "result, continuation_token = reviews(\n",
    "    'com.gojek.app',\n",
    "    lang='id',\n",
    "    country='id',\n",
    "    sort=Sort.MOST_RELEVANT,\n",
    "    count=50000,\n",
    "    filter_score_with=None)"
   ]
  },
  {
   "cell_type": "code",
   "execution_count": 12,
   "id": "1985540b",
   "metadata": {},
   "outputs": [
    {
     "data": {
      "text/html": [
       "<div>\n",
       "<style scoped>\n",
       "    .dataframe tbody tr th:only-of-type {\n",
       "        vertical-align: middle;\n",
       "    }\n",
       "\n",
       "    .dataframe tbody tr th {\n",
       "        vertical-align: top;\n",
       "    }\n",
       "\n",
       "    .dataframe thead th {\n",
       "        text-align: right;\n",
       "    }\n",
       "</style>\n",
       "<table border=\"1\" class=\"dataframe\">\n",
       "  <thead>\n",
       "    <tr style=\"text-align: right;\">\n",
       "      <th></th>\n",
       "      <th>reviewId</th>\n",
       "      <th>userName</th>\n",
       "      <th>userImage</th>\n",
       "      <th>content</th>\n",
       "      <th>score</th>\n",
       "      <th>thumbsUpCount</th>\n",
       "      <th>reviewCreatedVersion</th>\n",
       "      <th>at</th>\n",
       "      <th>replyContent</th>\n",
       "      <th>repliedAt</th>\n",
       "      <th>appVersion</th>\n",
       "    </tr>\n",
       "  </thead>\n",
       "  <tbody>\n",
       "    <tr>\n",
       "      <th>0</th>\n",
       "      <td>2422c8e3-0a5a-4a4f-b93b-ee33f553c5c2</td>\n",
       "      <td>dad bas</td>\n",
       "      <td>https://play-lh.googleusercontent.com/a/AAcHTt...</td>\n",
       "      <td>kode otp gak masuk masuk, udah update terbaru,...</td>\n",
       "      <td>1</td>\n",
       "      <td>10</td>\n",
       "      <td>4.68.1</td>\n",
       "      <td>2023-06-15 20:06:57</td>\n",
       "      <td>Hai, mohon maaf atas kendalanya. Ketika masuk ...</td>\n",
       "      <td>2023-06-16 09:54:45</td>\n",
       "      <td>4.68.1</td>\n",
       "    </tr>\n",
       "    <tr>\n",
       "      <th>1</th>\n",
       "      <td>0009a5a4-4011-4fb7-aaf9-7a110758b4b1</td>\n",
       "      <td>Ayu Puspita</td>\n",
       "      <td>https://play-lh.googleusercontent.com/a/AAcHTt...</td>\n",
       "      <td>Dulu: Banyak bonus. Bisa pesan lintas kota. ku...</td>\n",
       "      <td>5</td>\n",
       "      <td>146</td>\n",
       "      <td>4.68.1</td>\n",
       "      <td>2023-06-10 10:28:34</td>\n",
       "      <td>None</td>\n",
       "      <td>NaT</td>\n",
       "      <td>4.68.1</td>\n",
       "    </tr>\n",
       "    <tr>\n",
       "      <th>2</th>\n",
       "      <td>0cf644a0-77f4-4e7b-9f4b-97104e5cb16b</td>\n",
       "      <td>Linda Soebiyanto</td>\n",
       "      <td>https://play-lh.googleusercontent.com/a-/AD_cM...</td>\n",
       "      <td>Driver2nya bs antar dg tepat, ga bingung arah ...</td>\n",
       "      <td>5</td>\n",
       "      <td>149</td>\n",
       "      <td>4.67.2</td>\n",
       "      <td>2023-06-09 11:20:44</td>\n",
       "      <td>None</td>\n",
       "      <td>NaT</td>\n",
       "      <td>4.67.2</td>\n",
       "    </tr>\n",
       "    <tr>\n",
       "      <th>3</th>\n",
       "      <td>0803ba40-a62d-49aa-86ed-96a570b7fc0a</td>\n",
       "      <td>Febrie G. Setiaputra</td>\n",
       "      <td>https://play-lh.googleusercontent.com/a-/AD_cM...</td>\n",
       "      <td>Akan lebih baik jika lokasi tidak disetting ot...</td>\n",
       "      <td>2</td>\n",
       "      <td>471</td>\n",
       "      <td>4.67.2</td>\n",
       "      <td>2023-05-24 08:46:25</td>\n",
       "      <td>Hai Febrie G, mohon maaf ya. Laporan yang kamu...</td>\n",
       "      <td>2023-05-25 11:51:46</td>\n",
       "      <td>4.67.2</td>\n",
       "    </tr>\n",
       "    <tr>\n",
       "      <th>4</th>\n",
       "      <td>fdf926be-e84c-4f33-9f66-463a9fc6ac99</td>\n",
       "      <td>Nur Zaman</td>\n",
       "      <td>https://play-lh.googleusercontent.com/a/AAcHTt...</td>\n",
       "      <td>Performa makin lama makin menurun dan harga yg...</td>\n",
       "      <td>1</td>\n",
       "      <td>199</td>\n",
       "      <td>4.67.2</td>\n",
       "      <td>2023-06-04 15:58:48</td>\n",
       "      <td>Hai Nur, terima kasih atas ulasanmu dan mohon ...</td>\n",
       "      <td>2023-06-06 12:28:30</td>\n",
       "      <td>4.67.2</td>\n",
       "    </tr>\n",
       "  </tbody>\n",
       "</table>\n",
       "</div>"
      ],
      "text/plain": [
       "                               reviewId              userName  \\\n",
       "0  2422c8e3-0a5a-4a4f-b93b-ee33f553c5c2               dad bas   \n",
       "1  0009a5a4-4011-4fb7-aaf9-7a110758b4b1           Ayu Puspita   \n",
       "2  0cf644a0-77f4-4e7b-9f4b-97104e5cb16b      Linda Soebiyanto   \n",
       "3  0803ba40-a62d-49aa-86ed-96a570b7fc0a  Febrie G. Setiaputra   \n",
       "4  fdf926be-e84c-4f33-9f66-463a9fc6ac99             Nur Zaman   \n",
       "\n",
       "                                           userImage  \\\n",
       "0  https://play-lh.googleusercontent.com/a/AAcHTt...   \n",
       "1  https://play-lh.googleusercontent.com/a/AAcHTt...   \n",
       "2  https://play-lh.googleusercontent.com/a-/AD_cM...   \n",
       "3  https://play-lh.googleusercontent.com/a-/AD_cM...   \n",
       "4  https://play-lh.googleusercontent.com/a/AAcHTt...   \n",
       "\n",
       "                                             content  score  thumbsUpCount  \\\n",
       "0  kode otp gak masuk masuk, udah update terbaru,...      1             10   \n",
       "1  Dulu: Banyak bonus. Bisa pesan lintas kota. ku...      5            146   \n",
       "2  Driver2nya bs antar dg tepat, ga bingung arah ...      5            149   \n",
       "3  Akan lebih baik jika lokasi tidak disetting ot...      2            471   \n",
       "4  Performa makin lama makin menurun dan harga yg...      1            199   \n",
       "\n",
       "  reviewCreatedVersion                  at  \\\n",
       "0               4.68.1 2023-06-15 20:06:57   \n",
       "1               4.68.1 2023-06-10 10:28:34   \n",
       "2               4.67.2 2023-06-09 11:20:44   \n",
       "3               4.67.2 2023-05-24 08:46:25   \n",
       "4               4.67.2 2023-06-04 15:58:48   \n",
       "\n",
       "                                        replyContent           repliedAt  \\\n",
       "0  Hai, mohon maaf atas kendalanya. Ketika masuk ... 2023-06-16 09:54:45   \n",
       "1                                               None                 NaT   \n",
       "2                                               None                 NaT   \n",
       "3  Hai Febrie G, mohon maaf ya. Laporan yang kamu... 2023-05-25 11:51:46   \n",
       "4  Hai Nur, terima kasih atas ulasanmu dan mohon ... 2023-06-06 12:28:30   \n",
       "\n",
       "  appVersion  \n",
       "0     4.68.1  \n",
       "1     4.68.1  \n",
       "2     4.67.2  \n",
       "3     4.67.2  \n",
       "4     4.67.2  "
      ]
     },
     "execution_count": 12,
     "metadata": {},
     "output_type": "execute_result"
    }
   ],
   "source": [
    "df_baru = pd.DataFrame(np.array(result),columns=['review'])\n",
    "df_baru = df_baru.join(pd.DataFrame(df_baru.pop('review').tolist()))\n",
    "df_baru.head()"
   ]
  },
  {
   "cell_type": "code",
   "execution_count": 13,
   "id": "ef36acdf",
   "metadata": {},
   "outputs": [
    {
     "data": {
      "text/plain": [
       "50000"
      ]
     },
     "execution_count": 13,
     "metadata": {},
     "output_type": "execute_result"
    }
   ],
   "source": [
    "len(df_baru.index)"
   ]
  },
  {
   "cell_type": "code",
   "execution_count": 14,
   "id": "8ba7dca9",
   "metadata": {},
   "outputs": [
    {
     "data": {
      "text/html": [
       "<div>\n",
       "<style scoped>\n",
       "    .dataframe tbody tr th:only-of-type {\n",
       "        vertical-align: middle;\n",
       "    }\n",
       "\n",
       "    .dataframe tbody tr th {\n",
       "        vertical-align: top;\n",
       "    }\n",
       "\n",
       "    .dataframe thead th {\n",
       "        text-align: right;\n",
       "    }\n",
       "</style>\n",
       "<table border=\"1\" class=\"dataframe\">\n",
       "  <thead>\n",
       "    <tr style=\"text-align: right;\">\n",
       "      <th></th>\n",
       "      <th>score</th>\n",
       "      <th>content</th>\n",
       "    </tr>\n",
       "  </thead>\n",
       "  <tbody>\n",
       "    <tr>\n",
       "      <th>0</th>\n",
       "      <td>1</td>\n",
       "      <td>kode otp gak masuk masuk, udah update terbaru,...</td>\n",
       "    </tr>\n",
       "    <tr>\n",
       "      <th>1</th>\n",
       "      <td>5</td>\n",
       "      <td>Dulu: Banyak bonus. Bisa pesan lintas kota. ku...</td>\n",
       "    </tr>\n",
       "    <tr>\n",
       "      <th>2</th>\n",
       "      <td>5</td>\n",
       "      <td>Driver2nya bs antar dg tepat, ga bingung arah ...</td>\n",
       "    </tr>\n",
       "    <tr>\n",
       "      <th>3</th>\n",
       "      <td>2</td>\n",
       "      <td>Akan lebih baik jika lokasi tidak disetting ot...</td>\n",
       "    </tr>\n",
       "    <tr>\n",
       "      <th>4</th>\n",
       "      <td>1</td>\n",
       "      <td>Performa makin lama makin menurun dan harga yg...</td>\n",
       "    </tr>\n",
       "  </tbody>\n",
       "</table>\n",
       "</div>"
      ],
      "text/plain": [
       "   score                                            content\n",
       "0      1  kode otp gak masuk masuk, udah update terbaru,...\n",
       "1      5  Dulu: Banyak bonus. Bisa pesan lintas kota. ku...\n",
       "2      5  Driver2nya bs antar dg tepat, ga bingung arah ...\n",
       "3      2  Akan lebih baik jika lokasi tidak disetting ot...\n",
       "4      1  Performa makin lama makin menurun dan harga yg..."
      ]
     },
     "execution_count": 14,
     "metadata": {},
     "output_type": "execute_result"
    }
   ],
   "source": [
    "df_baru[['score','content']].head()"
   ]
  },
  {
   "cell_type": "code",
   "execution_count": 15,
   "id": "67e4d0da",
   "metadata": {},
   "outputs": [
    {
     "data": {
      "text/html": [
       "<div>\n",
       "<style scoped>\n",
       "    .dataframe tbody tr th:only-of-type {\n",
       "        vertical-align: middle;\n",
       "    }\n",
       "\n",
       "    .dataframe tbody tr th {\n",
       "        vertical-align: top;\n",
       "    }\n",
       "\n",
       "    .dataframe thead th {\n",
       "        text-align: right;\n",
       "    }\n",
       "</style>\n",
       "<table border=\"1\" class=\"dataframe\">\n",
       "  <thead>\n",
       "    <tr style=\"text-align: right;\">\n",
       "      <th></th>\n",
       "      <th>score</th>\n",
       "      <th>content</th>\n",
       "    </tr>\n",
       "  </thead>\n",
       "  <tbody>\n",
       "    <tr>\n",
       "      <th>0</th>\n",
       "      <td>1</td>\n",
       "      <td>kode otp gak masuk masuk, udah update terbaru,...</td>\n",
       "    </tr>\n",
       "    <tr>\n",
       "      <th>1</th>\n",
       "      <td>5</td>\n",
       "      <td>Dulu: Banyak bonus. Bisa pesan lintas kota. ku...</td>\n",
       "    </tr>\n",
       "    <tr>\n",
       "      <th>2</th>\n",
       "      <td>5</td>\n",
       "      <td>Driver2nya bs antar dg tepat, ga bingung arah ...</td>\n",
       "    </tr>\n",
       "    <tr>\n",
       "      <th>3</th>\n",
       "      <td>2</td>\n",
       "      <td>Akan lebih baik jika lokasi tidak disetting ot...</td>\n",
       "    </tr>\n",
       "    <tr>\n",
       "      <th>4</th>\n",
       "      <td>1</td>\n",
       "      <td>Performa makin lama makin menurun dan harga yg...</td>\n",
       "    </tr>\n",
       "  </tbody>\n",
       "</table>\n",
       "</div>"
      ],
      "text/plain": [
       "   score                                            content\n",
       "0      1  kode otp gak masuk masuk, udah update terbaru,...\n",
       "1      5  Dulu: Banyak bonus. Bisa pesan lintas kota. ku...\n",
       "2      5  Driver2nya bs antar dg tepat, ga bingung arah ...\n",
       "3      2  Akan lebih baik jika lokasi tidak disetting ot...\n",
       "4      1  Performa makin lama makin menurun dan harga yg..."
      ]
     },
     "execution_count": 15,
     "metadata": {},
     "output_type": "execute_result"
    }
   ],
   "source": [
    "new_df = df_baru[['score','content']]\n",
    "new_df.head()"
   ]
  },
  {
   "cell_type": "markdown",
   "id": "9dc0c54e",
   "metadata": {},
   "source": [
    "### Pelabelan"
   ]
  },
  {
   "cell_type": "code",
   "execution_count": 17,
   "id": "51832ffc",
   "metadata": {},
   "outputs": [
    {
     "name": "stderr",
     "output_type": "stream",
     "text": [
      "C:\\Users\\rifai\\AppData\\Local\\Temp\\ipykernel_2412\\2087801360.py:8: SettingWithCopyWarning: \n",
      "A value is trying to be set on a copy of a slice from a DataFrame.\n",
      "Try using .loc[row_indexer,col_indexer] = value instead\n",
      "\n",
      "See the caveats in the documentation: https://pandas.pydata.org/pandas-docs/stable/user_guide/indexing.html#returning-a-view-versus-a-copy\n",
      "  new_df['label'] = new_df ['score'].apply(labelling)\n"
     ]
    },
    {
     "data": {
      "text/html": [
       "<div>\n",
       "<style scoped>\n",
       "    .dataframe tbody tr th:only-of-type {\n",
       "        vertical-align: middle;\n",
       "    }\n",
       "\n",
       "    .dataframe tbody tr th {\n",
       "        vertical-align: top;\n",
       "    }\n",
       "\n",
       "    .dataframe thead th {\n",
       "        text-align: right;\n",
       "    }\n",
       "</style>\n",
       "<table border=\"1\" class=\"dataframe\">\n",
       "  <thead>\n",
       "    <tr style=\"text-align: right;\">\n",
       "      <th></th>\n",
       "      <th>score</th>\n",
       "      <th>content</th>\n",
       "      <th>label</th>\n",
       "    </tr>\n",
       "  </thead>\n",
       "  <tbody>\n",
       "    <tr>\n",
       "      <th>0</th>\n",
       "      <td>1</td>\n",
       "      <td>kode otp gak masuk masuk, udah update terbaru,...</td>\n",
       "      <td>Negatif</td>\n",
       "    </tr>\n",
       "    <tr>\n",
       "      <th>1</th>\n",
       "      <td>5</td>\n",
       "      <td>Dulu: Banyak bonus. Bisa pesan lintas kota. ku...</td>\n",
       "      <td>Positif</td>\n",
       "    </tr>\n",
       "    <tr>\n",
       "      <th>2</th>\n",
       "      <td>5</td>\n",
       "      <td>Driver2nya bs antar dg tepat, ga bingung arah ...</td>\n",
       "      <td>Positif</td>\n",
       "    </tr>\n",
       "    <tr>\n",
       "      <th>3</th>\n",
       "      <td>2</td>\n",
       "      <td>Akan lebih baik jika lokasi tidak disetting ot...</td>\n",
       "      <td>Negatif</td>\n",
       "    </tr>\n",
       "    <tr>\n",
       "      <th>4</th>\n",
       "      <td>1</td>\n",
       "      <td>Performa makin lama makin menurun dan harga yg...</td>\n",
       "      <td>Negatif</td>\n",
       "    </tr>\n",
       "    <tr>\n",
       "      <th>...</th>\n",
       "      <td>...</td>\n",
       "      <td>...</td>\n",
       "      <td>...</td>\n",
       "    </tr>\n",
       "    <tr>\n",
       "      <th>95</th>\n",
       "      <td>3</td>\n",
       "      <td>Dear Developer, Fitur untuk minta saldo ke tem...</td>\n",
       "      <td>None</td>\n",
       "    </tr>\n",
       "    <tr>\n",
       "      <th>96</th>\n",
       "      <td>1</td>\n",
       "      <td>Ini aplikasi udah ongkir gofood mahal, dikasih...</td>\n",
       "      <td>Negatif</td>\n",
       "    </tr>\n",
       "    <tr>\n",
       "      <th>97</th>\n",
       "      <td>1</td>\n",
       "      <td>Dulu saya sangat suka pakai gopay karena memud...</td>\n",
       "      <td>Negatif</td>\n",
       "    </tr>\n",
       "    <tr>\n",
       "      <th>98</th>\n",
       "      <td>1</td>\n",
       "      <td>saya pengguna lama gosend dengan aktivitas kir...</td>\n",
       "      <td>Negatif</td>\n",
       "    </tr>\n",
       "    <tr>\n",
       "      <th>99</th>\n",
       "      <td>1</td>\n",
       "      <td>Ini aplikasi nya gimana?saya sudah klik gojek ...</td>\n",
       "      <td>Negatif</td>\n",
       "    </tr>\n",
       "  </tbody>\n",
       "</table>\n",
       "<p>100 rows × 3 columns</p>\n",
       "</div>"
      ],
      "text/plain": [
       "    score                                            content    label\n",
       "0       1  kode otp gak masuk masuk, udah update terbaru,...  Negatif\n",
       "1       5  Dulu: Banyak bonus. Bisa pesan lintas kota. ku...  Positif\n",
       "2       5  Driver2nya bs antar dg tepat, ga bingung arah ...  Positif\n",
       "3       2  Akan lebih baik jika lokasi tidak disetting ot...  Negatif\n",
       "4       1  Performa makin lama makin menurun dan harga yg...  Negatif\n",
       "..    ...                                                ...      ...\n",
       "95      3  Dear Developer, Fitur untuk minta saldo ke tem...     None\n",
       "96      1  Ini aplikasi udah ongkir gofood mahal, dikasih...  Negatif\n",
       "97      1  Dulu saya sangat suka pakai gopay karena memud...  Negatif\n",
       "98      1  saya pengguna lama gosend dengan aktivitas kir...  Negatif\n",
       "99      1  Ini aplikasi nya gimana?saya sudah klik gojek ...  Negatif\n",
       "\n",
       "[100 rows x 3 columns]"
      ]
     },
     "execution_count": 17,
     "metadata": {},
     "output_type": "execute_result"
    }
   ],
   "source": [
    "def labelling(score):\n",
    "    if score <3:\n",
    "        return 'Negatif'\n",
    "    elif score == 4 :\n",
    "        return 'Positif'\n",
    "    elif score == 5 :\n",
    "        return 'Positif'\n",
    "new_df['label'] = new_df ['score'].apply(labelling)\n",
    "new_df.head(100)"
   ]
  },
  {
   "cell_type": "code",
   "execution_count": 19,
   "id": "183a51e7",
   "metadata": {},
   "outputs": [],
   "source": [
    "new_df = new_df[['content', 'label']]"
   ]
  },
  {
   "cell_type": "code",
   "execution_count": 20,
   "id": "38f03c71",
   "metadata": {},
   "outputs": [
    {
     "data": {
      "text/html": [
       "<div>\n",
       "<style scoped>\n",
       "    .dataframe tbody tr th:only-of-type {\n",
       "        vertical-align: middle;\n",
       "    }\n",
       "\n",
       "    .dataframe tbody tr th {\n",
       "        vertical-align: top;\n",
       "    }\n",
       "\n",
       "    .dataframe thead th {\n",
       "        text-align: right;\n",
       "    }\n",
       "</style>\n",
       "<table border=\"1\" class=\"dataframe\">\n",
       "  <thead>\n",
       "    <tr style=\"text-align: right;\">\n",
       "      <th></th>\n",
       "      <th>content</th>\n",
       "      <th>label</th>\n",
       "    </tr>\n",
       "  </thead>\n",
       "  <tbody>\n",
       "    <tr>\n",
       "      <th>0</th>\n",
       "      <td>kode otp gak masuk masuk, udah update terbaru,...</td>\n",
       "      <td>Negatif</td>\n",
       "    </tr>\n",
       "    <tr>\n",
       "      <th>1</th>\n",
       "      <td>Dulu: Banyak bonus. Bisa pesan lintas kota. ku...</td>\n",
       "      <td>Positif</td>\n",
       "    </tr>\n",
       "    <tr>\n",
       "      <th>2</th>\n",
       "      <td>Driver2nya bs antar dg tepat, ga bingung arah ...</td>\n",
       "      <td>Positif</td>\n",
       "    </tr>\n",
       "    <tr>\n",
       "      <th>3</th>\n",
       "      <td>Akan lebih baik jika lokasi tidak disetting ot...</td>\n",
       "      <td>Negatif</td>\n",
       "    </tr>\n",
       "    <tr>\n",
       "      <th>4</th>\n",
       "      <td>Performa makin lama makin menurun dan harga yg...</td>\n",
       "      <td>Negatif</td>\n",
       "    </tr>\n",
       "  </tbody>\n",
       "</table>\n",
       "</div>"
      ],
      "text/plain": [
       "                                             content    label\n",
       "0  kode otp gak masuk masuk, udah update terbaru,...  Negatif\n",
       "1  Dulu: Banyak bonus. Bisa pesan lintas kota. ku...  Positif\n",
       "2  Driver2nya bs antar dg tepat, ga bingung arah ...  Positif\n",
       "3  Akan lebih baik jika lokasi tidak disetting ot...  Negatif\n",
       "4  Performa makin lama makin menurun dan harga yg...  Negatif"
      ]
     },
     "execution_count": 20,
     "metadata": {},
     "output_type": "execute_result"
    }
   ],
   "source": [
    "new_df.head()"
   ]
  },
  {
   "cell_type": "markdown",
   "id": "19a2da06",
   "metadata": {},
   "source": [
    "### Data Cleaning"
   ]
  },
  {
   "cell_type": "code",
   "execution_count": 21,
   "id": "dbf6ff5d",
   "metadata": {},
   "outputs": [
    {
     "name": "stdout",
     "output_type": "stream",
     "text": [
      "<class 'pandas.core.frame.DataFrame'>\n",
      "RangeIndex: 50000 entries, 0 to 49999\n",
      "Data columns (total 2 columns):\n",
      " #   Column   Non-Null Count  Dtype \n",
      "---  ------   --------------  ----- \n",
      " 0   content  50000 non-null  object\n",
      " 1   label    44917 non-null  object\n",
      "dtypes: object(2)\n",
      "memory usage: 781.4+ KB\n"
     ]
    }
   ],
   "source": [
    "new_df.info()"
   ]
  },
  {
   "cell_type": "code",
   "execution_count": 22,
   "id": "c93ac9d0",
   "metadata": {},
   "outputs": [
    {
     "data": {
      "text/html": [
       "<div>\n",
       "<style scoped>\n",
       "    .dataframe tbody tr th:only-of-type {\n",
       "        vertical-align: middle;\n",
       "    }\n",
       "\n",
       "    .dataframe tbody tr th {\n",
       "        vertical-align: top;\n",
       "    }\n",
       "\n",
       "    .dataframe thead th {\n",
       "        text-align: right;\n",
       "    }\n",
       "</style>\n",
       "<table border=\"1\" class=\"dataframe\">\n",
       "  <thead>\n",
       "    <tr style=\"text-align: right;\">\n",
       "      <th></th>\n",
       "      <th>content</th>\n",
       "      <th>label</th>\n",
       "    </tr>\n",
       "  </thead>\n",
       "  <tbody>\n",
       "    <tr>\n",
       "      <th>0</th>\n",
       "      <td>False</td>\n",
       "      <td>False</td>\n",
       "    </tr>\n",
       "    <tr>\n",
       "      <th>1</th>\n",
       "      <td>False</td>\n",
       "      <td>False</td>\n",
       "    </tr>\n",
       "    <tr>\n",
       "      <th>2</th>\n",
       "      <td>False</td>\n",
       "      <td>False</td>\n",
       "    </tr>\n",
       "    <tr>\n",
       "      <th>3</th>\n",
       "      <td>False</td>\n",
       "      <td>False</td>\n",
       "    </tr>\n",
       "    <tr>\n",
       "      <th>4</th>\n",
       "      <td>False</td>\n",
       "      <td>False</td>\n",
       "    </tr>\n",
       "    <tr>\n",
       "      <th>...</th>\n",
       "      <td>...</td>\n",
       "      <td>...</td>\n",
       "    </tr>\n",
       "    <tr>\n",
       "      <th>49995</th>\n",
       "      <td>False</td>\n",
       "      <td>False</td>\n",
       "    </tr>\n",
       "    <tr>\n",
       "      <th>49996</th>\n",
       "      <td>False</td>\n",
       "      <td>False</td>\n",
       "    </tr>\n",
       "    <tr>\n",
       "      <th>49997</th>\n",
       "      <td>False</td>\n",
       "      <td>True</td>\n",
       "    </tr>\n",
       "    <tr>\n",
       "      <th>49998</th>\n",
       "      <td>False</td>\n",
       "      <td>False</td>\n",
       "    </tr>\n",
       "    <tr>\n",
       "      <th>49999</th>\n",
       "      <td>False</td>\n",
       "      <td>False</td>\n",
       "    </tr>\n",
       "  </tbody>\n",
       "</table>\n",
       "<p>50000 rows × 2 columns</p>\n",
       "</div>"
      ],
      "text/plain": [
       "       content  label\n",
       "0        False  False\n",
       "1        False  False\n",
       "2        False  False\n",
       "3        False  False\n",
       "4        False  False\n",
       "...        ...    ...\n",
       "49995    False  False\n",
       "49996    False  False\n",
       "49997    False   True\n",
       "49998    False  False\n",
       "49999    False  False\n",
       "\n",
       "[50000 rows x 2 columns]"
      ]
     },
     "execution_count": 22,
     "metadata": {},
     "output_type": "execute_result"
    }
   ],
   "source": [
    "new_df.isna()"
   ]
  },
  {
   "cell_type": "code",
   "execution_count": 23,
   "id": "c6f7ee2a",
   "metadata": {},
   "outputs": [
    {
     "data": {
      "text/plain": [
       "content    False\n",
       "label       True\n",
       "dtype: bool"
      ]
     },
     "execution_count": 23,
     "metadata": {},
     "output_type": "execute_result"
    }
   ],
   "source": [
    "new_df.isna().any()"
   ]
  },
  {
   "cell_type": "code",
   "execution_count": 24,
   "id": "91627cb1",
   "metadata": {},
   "outputs": [
    {
     "data": {
      "text/plain": [
       "content       0\n",
       "label      5083\n",
       "dtype: int64"
      ]
     },
     "execution_count": 24,
     "metadata": {},
     "output_type": "execute_result"
    }
   ],
   "source": [
    "new_df.isnull().sum()"
   ]
  },
  {
   "cell_type": "code",
   "execution_count": 25,
   "id": "0a9981e0",
   "metadata": {},
   "outputs": [
    {
     "name": "stderr",
     "output_type": "stream",
     "text": [
      "C:\\Users\\rifai\\AppData\\Local\\Temp\\ipykernel_2412\\946142420.py:1: SettingWithCopyWarning: \n",
      "A value is trying to be set on a copy of a slice from a DataFrame\n",
      "\n",
      "See the caveats in the documentation: https://pandas.pydata.org/pandas-docs/stable/user_guide/indexing.html#returning-a-view-versus-a-copy\n",
      "  new_df.dropna(subset=['label'],inplace = True)\n"
     ]
    }
   ],
   "source": [
    "new_df.dropna(subset=['label'],inplace = True)"
   ]
  },
  {
   "cell_type": "code",
   "execution_count": 26,
   "id": "88f0956b",
   "metadata": {},
   "outputs": [
    {
     "data": {
      "text/plain": [
       "content    0\n",
       "label      0\n",
       "dtype: int64"
      ]
     },
     "execution_count": 26,
     "metadata": {},
     "output_type": "execute_result"
    }
   ],
   "source": [
    "new_df.isnull().sum()"
   ]
  },
  {
   "cell_type": "code",
   "execution_count": 27,
   "id": "522f541f",
   "metadata": {},
   "outputs": [
    {
     "data": {
      "text/html": [
       "<div>\n",
       "<style scoped>\n",
       "    .dataframe tbody tr th:only-of-type {\n",
       "        vertical-align: middle;\n",
       "    }\n",
       "\n",
       "    .dataframe tbody tr th {\n",
       "        vertical-align: top;\n",
       "    }\n",
       "\n",
       "    .dataframe thead th {\n",
       "        text-align: right;\n",
       "    }\n",
       "</style>\n",
       "<table border=\"1\" class=\"dataframe\">\n",
       "  <thead>\n",
       "    <tr style=\"text-align: right;\">\n",
       "      <th></th>\n",
       "      <th>content</th>\n",
       "      <th>label</th>\n",
       "    </tr>\n",
       "  </thead>\n",
       "  <tbody>\n",
       "    <tr>\n",
       "      <th>0</th>\n",
       "      <td>kode otp gak masuk masuk, udah update terbaru,...</td>\n",
       "      <td>Negatif</td>\n",
       "    </tr>\n",
       "    <tr>\n",
       "      <th>1</th>\n",
       "      <td>Dulu: Banyak bonus. Bisa pesan lintas kota. ku...</td>\n",
       "      <td>Positif</td>\n",
       "    </tr>\n",
       "    <tr>\n",
       "      <th>2</th>\n",
       "      <td>Driver2nya bs antar dg tepat, ga bingung arah ...</td>\n",
       "      <td>Positif</td>\n",
       "    </tr>\n",
       "    <tr>\n",
       "      <th>3</th>\n",
       "      <td>Akan lebih baik jika lokasi tidak disetting ot...</td>\n",
       "      <td>Negatif</td>\n",
       "    </tr>\n",
       "    <tr>\n",
       "      <th>4</th>\n",
       "      <td>Performa makin lama makin menurun dan harga yg...</td>\n",
       "      <td>Negatif</td>\n",
       "    </tr>\n",
       "    <tr>\n",
       "      <th>...</th>\n",
       "      <td>...</td>\n",
       "      <td>...</td>\n",
       "    </tr>\n",
       "    <tr>\n",
       "      <th>109</th>\n",
       "      <td>gojek semakin diupdate malah semakin gak beres...</td>\n",
       "      <td>Negatif</td>\n",
       "    </tr>\n",
       "    <tr>\n",
       "      <th>110</th>\n",
       "      <td>Ada apa dengan driver, ketika pesan antar gofo...</td>\n",
       "      <td>Negatif</td>\n",
       "    </tr>\n",
       "    <tr>\n",
       "      <th>111</th>\n",
       "      <td>Aplikasi yang makin kesini makin buruk,mulai d...</td>\n",
       "      <td>Negatif</td>\n",
       "    </tr>\n",
       "    <tr>\n",
       "      <th>112</th>\n",
       "      <td>Ini aplikasi gojek tampilan nya kenapa pula, t...</td>\n",
       "      <td>Negatif</td>\n",
       "    </tr>\n",
       "    <tr>\n",
       "      <th>113</th>\n",
       "      <td>Kecewa bgt sama apk ini padahal pemakain cukup...</td>\n",
       "      <td>Negatif</td>\n",
       "    </tr>\n",
       "  </tbody>\n",
       "</table>\n",
       "<p>100 rows × 2 columns</p>\n",
       "</div>"
      ],
      "text/plain": [
       "                                               content    label\n",
       "0    kode otp gak masuk masuk, udah update terbaru,...  Negatif\n",
       "1    Dulu: Banyak bonus. Bisa pesan lintas kota. ku...  Positif\n",
       "2    Driver2nya bs antar dg tepat, ga bingung arah ...  Positif\n",
       "3    Akan lebih baik jika lokasi tidak disetting ot...  Negatif\n",
       "4    Performa makin lama makin menurun dan harga yg...  Negatif\n",
       "..                                                 ...      ...\n",
       "109  gojek semakin diupdate malah semakin gak beres...  Negatif\n",
       "110  Ada apa dengan driver, ketika pesan antar gofo...  Negatif\n",
       "111  Aplikasi yang makin kesini makin buruk,mulai d...  Negatif\n",
       "112  Ini aplikasi gojek tampilan nya kenapa pula, t...  Negatif\n",
       "113  Kecewa bgt sama apk ini padahal pemakain cukup...  Negatif\n",
       "\n",
       "[100 rows x 2 columns]"
      ]
     },
     "execution_count": 27,
     "metadata": {},
     "output_type": "execute_result"
    }
   ],
   "source": [
    "new_df.head(100)"
   ]
  },
  {
   "cell_type": "code",
   "execution_count": 28,
   "id": "aee50756",
   "metadata": {},
   "outputs": [],
   "source": [
    "new_df.to_csv(\"data_review_gojek_apps.csv\", index = False) #simpan hasil file data cleaning"
   ]
  },
  {
   "cell_type": "code",
   "execution_count": 31,
   "id": "736fe55a",
   "metadata": {},
   "outputs": [],
   "source": [
    "#import lib\n",
    "import pandas as pd\n",
    "import numpy as np\n",
    "import matplotlib.pyplot as plt\n",
    "import random\n",
    "import tensorflow as tf\n",
    "\n",
    "from numpy import array\n",
    "from sklearn.model_selection import train_test_split\n",
    "\n",
    "from tensorflow.keras import regularizers\n",
    "from tensorflow.keras.utils import to_categorical\n",
    "from tensorflow.keras.preprocessing.text import Tokenizer\n",
    "from tensorflow.keras.preprocessing.sequence import pad_sequences"
   ]
  },
  {
   "cell_type": "code",
   "execution_count": 30,
   "id": "666d0530",
   "metadata": {},
   "outputs": [
    {
     "name": "stdout",
     "output_type": "stream",
     "text": [
      "Collecting tensorflow\n",
      "  Downloading tensorflow-2.12.0-cp310-cp310-win_amd64.whl (1.9 kB)\n",
      "Collecting tensorflow-intel==2.12.0\n",
      "  Downloading tensorflow_intel-2.12.0-cp310-cp310-win_amd64.whl (272.8 MB)\n",
      "     -------------------------------------- 272.8/272.8 MB 1.8 MB/s eta 0:00:00\n",
      "Collecting opt-einsum>=2.3.2\n",
      "  Downloading opt_einsum-3.3.0-py3-none-any.whl (65 kB)\n",
      "     ---------------------------------------- 65.5/65.5 kB 3.7 MB/s eta 0:00:00\n",
      "Requirement already satisfied: numpy<1.24,>=1.22 in c:\\users\\rifai\\anaconda3\\lib\\site-packages (from tensorflow-intel==2.12.0->tensorflow) (1.23.5)\n",
      "Collecting keras<2.13,>=2.12.0\n",
      "  Downloading keras-2.12.0-py2.py3-none-any.whl (1.7 MB)\n",
      "     ---------------------------------------- 1.7/1.7 MB 2.8 MB/s eta 0:00:00\n",
      "Requirement already satisfied: packaging in c:\\users\\rifai\\anaconda3\\lib\\site-packages (from tensorflow-intel==2.12.0->tensorflow) (22.0)\n",
      "Collecting jax>=0.3.15\n",
      "  Downloading jax-0.4.12.tar.gz (1.3 MB)\n",
      "     ---------------------------------------- 1.3/1.3 MB 2.7 MB/s eta 0:00:00\n",
      "  Installing build dependencies: started\n",
      "  Installing build dependencies: finished with status 'done'\n",
      "  Getting requirements to build wheel: started\n",
      "  Getting requirements to build wheel: finished with status 'done'\n",
      "  Preparing metadata (pyproject.toml): started\n",
      "  Preparing metadata (pyproject.toml): finished with status 'done'\n",
      "Collecting libclang>=13.0.0\n",
      "  Downloading libclang-16.0.0-py2.py3-none-win_amd64.whl (24.4 MB)\n",
      "     ---------------------------------------- 24.4/24.4 MB 1.8 MB/s eta 0:00:00\n",
      "Requirement already satisfied: six>=1.12.0 in c:\\users\\rifai\\anaconda3\\lib\\site-packages (from tensorflow-intel==2.12.0->tensorflow) (1.16.0)\n",
      "Collecting tensorflow-estimator<2.13,>=2.12.0\n",
      "  Downloading tensorflow_estimator-2.12.0-py2.py3-none-any.whl (440 kB)\n",
      "     -------------------------------------- 440.7/440.7 kB 2.3 MB/s eta 0:00:00\n",
      "Collecting protobuf!=4.21.0,!=4.21.1,!=4.21.2,!=4.21.3,!=4.21.4,!=4.21.5,<5.0.0dev,>=3.20.3\n",
      "  Downloading protobuf-4.23.3-cp310-abi3-win_amd64.whl (422 kB)\n",
      "     -------------------------------------- 422.5/422.5 kB 3.3 MB/s eta 0:00:00\n",
      "Requirement already satisfied: setuptools in c:\\users\\rifai\\anaconda3\\lib\\site-packages (from tensorflow-intel==2.12.0->tensorflow) (65.6.3)\n",
      "Collecting absl-py>=1.0.0\n",
      "  Downloading absl_py-1.4.0-py3-none-any.whl (126 kB)\n",
      "     -------------------------------------- 126.5/126.5 kB 3.8 MB/s eta 0:00:00\n",
      "Collecting grpcio<2.0,>=1.24.3\n",
      "  Downloading grpcio-1.54.2-cp310-cp310-win_amd64.whl (4.1 MB)\n",
      "     ---------------------------------------- 4.1/4.1 MB 2.1 MB/s eta 0:00:00\n",
      "Collecting tensorflow-io-gcs-filesystem>=0.23.1\n",
      "  Downloading tensorflow_io_gcs_filesystem-0.31.0-cp310-cp310-win_amd64.whl (1.5 MB)\n",
      "     ---------------------------------------- 1.5/1.5 MB 2.0 MB/s eta 0:00:00\n",
      "Requirement already satisfied: wrapt<1.15,>=1.11.0 in c:\\users\\rifai\\anaconda3\\lib\\site-packages (from tensorflow-intel==2.12.0->tensorflow) (1.14.1)\n",
      "Requirement already satisfied: h5py>=2.9.0 in c:\\users\\rifai\\anaconda3\\lib\\site-packages (from tensorflow-intel==2.12.0->tensorflow) (3.7.0)\n",
      "Collecting tensorboard<2.13,>=2.12\n",
      "  Downloading tensorboard-2.12.3-py3-none-any.whl (5.6 MB)\n",
      "     ---------------------------------------- 5.6/5.6 MB 2.3 MB/s eta 0:00:00\n",
      "Collecting termcolor>=1.1.0\n",
      "  Downloading termcolor-2.3.0-py3-none-any.whl (6.9 kB)\n",
      "Requirement already satisfied: typing-extensions>=3.6.6 in c:\\users\\rifai\\anaconda3\\lib\\site-packages (from tensorflow-intel==2.12.0->tensorflow) (4.4.0)\n",
      "Collecting google-pasta>=0.1.1\n",
      "  Downloading google_pasta-0.2.0-py3-none-any.whl (57 kB)\n",
      "     ---------------------------------------- 57.5/57.5 kB 1.5 MB/s eta 0:00:00\n",
      "Collecting astunparse>=1.6.0\n",
      "  Downloading astunparse-1.6.3-py2.py3-none-any.whl (12 kB)\n",
      "Collecting flatbuffers>=2.0\n",
      "  Downloading flatbuffers-23.5.26-py2.py3-none-any.whl (26 kB)\n",
      "Collecting gast<=0.4.0,>=0.2.1\n",
      "  Downloading gast-0.4.0-py3-none-any.whl (9.8 kB)\n",
      "Requirement already satisfied: wheel<1.0,>=0.23.0 in c:\\users\\rifai\\anaconda3\\lib\\site-packages (from astunparse>=1.6.0->tensorflow-intel==2.12.0->tensorflow) (0.38.4)\n",
      "Requirement already satisfied: scipy>=1.7 in c:\\users\\rifai\\anaconda3\\lib\\site-packages (from jax>=0.3.15->tensorflow-intel==2.12.0->tensorflow) (1.10.0)\n",
      "Collecting ml-dtypes>=0.1.0\n",
      "  Downloading ml_dtypes-0.2.0-cp310-cp310-win_amd64.whl (938 kB)\n",
      "     -------------------------------------- 938.6/938.6 kB 2.4 MB/s eta 0:00:00\n",
      "Requirement already satisfied: requests<3,>=2.21.0 in c:\\users\\rifai\\anaconda3\\lib\\site-packages (from tensorboard<2.13,>=2.12->tensorflow-intel==2.12.0->tensorflow) (2.28.1)\n",
      "Collecting tensorboard-data-server<0.8.0,>=0.7.0\n",
      "  Downloading tensorboard_data_server-0.7.1-py3-none-any.whl (2.4 kB)\n",
      "Requirement already satisfied: werkzeug>=1.0.1 in c:\\users\\rifai\\anaconda3\\lib\\site-packages (from tensorboard<2.13,>=2.12->tensorflow-intel==2.12.0->tensorflow) (2.2.2)\n",
      "Collecting google-auth<3,>=1.6.3\n",
      "  Downloading google_auth-2.20.0-py2.py3-none-any.whl (181 kB)\n",
      "     -------------------------------------- 181.5/181.5 kB 2.2 MB/s eta 0:00:00\n",
      "Requirement already satisfied: markdown>=2.6.8 in c:\\users\\rifai\\anaconda3\\lib\\site-packages (from tensorboard<2.13,>=2.12->tensorflow-intel==2.12.0->tensorflow) (3.4.1)\n",
      "Collecting google-auth-oauthlib<1.1,>=0.5\n",
      "  Downloading google_auth_oauthlib-1.0.0-py2.py3-none-any.whl (18 kB)\n",
      "Collecting cachetools<6.0,>=2.0.0\n",
      "  Downloading cachetools-5.3.1-py3-none-any.whl (9.3 kB)\n",
      "Requirement already satisfied: urllib3<2.0 in c:\\users\\rifai\\anaconda3\\lib\\site-packages (from google-auth<3,>=1.6.3->tensorboard<2.13,>=2.12->tensorflow-intel==2.12.0->tensorflow) (1.26.14)\n",
      "Requirement already satisfied: pyasn1-modules>=0.2.1 in c:\\users\\rifai\\anaconda3\\lib\\site-packages (from google-auth<3,>=1.6.3->tensorboard<2.13,>=2.12->tensorflow-intel==2.12.0->tensorflow) (0.2.8)\n",
      "Collecting rsa<5,>=3.1.4\n",
      "  Downloading rsa-4.9-py3-none-any.whl (34 kB)\n",
      "Collecting requests-oauthlib>=0.7.0\n",
      "  Downloading requests_oauthlib-1.3.1-py2.py3-none-any.whl (23 kB)\n",
      "Requirement already satisfied: charset-normalizer<3,>=2 in c:\\users\\rifai\\anaconda3\\lib\\site-packages (from requests<3,>=2.21.0->tensorboard<2.13,>=2.12->tensorflow-intel==2.12.0->tensorflow) (2.0.4)\n",
      "Requirement already satisfied: idna<4,>=2.5 in c:\\users\\rifai\\anaconda3\\lib\\site-packages (from requests<3,>=2.21.0->tensorboard<2.13,>=2.12->tensorflow-intel==2.12.0->tensorflow) (3.4)\n",
      "Requirement already satisfied: certifi>=2017.4.17 in c:\\users\\rifai\\anaconda3\\lib\\site-packages (from requests<3,>=2.21.0->tensorboard<2.13,>=2.12->tensorflow-intel==2.12.0->tensorflow) (2023.5.7)\n",
      "Requirement already satisfied: MarkupSafe>=2.1.1 in c:\\users\\rifai\\anaconda3\\lib\\site-packages (from werkzeug>=1.0.1->tensorboard<2.13,>=2.12->tensorflow-intel==2.12.0->tensorflow) (2.1.1)\n",
      "Requirement already satisfied: pyasn1<0.5.0,>=0.4.6 in c:\\users\\rifai\\anaconda3\\lib\\site-packages (from pyasn1-modules>=0.2.1->google-auth<3,>=1.6.3->tensorboard<2.13,>=2.12->tensorflow-intel==2.12.0->tensorflow) (0.4.8)\n",
      "Collecting oauthlib>=3.0.0\n",
      "  Downloading oauthlib-3.2.2-py3-none-any.whl (151 kB)\n",
      "     -------------------------------------- 151.7/151.7 kB 2.2 MB/s eta 0:00:00\n",
      "Building wheels for collected packages: jax\n",
      "  Building wheel for jax (pyproject.toml): started\n",
      "  Building wheel for jax (pyproject.toml): finished with status 'done'\n",
      "  Created wheel for jax: filename=jax-0.4.12-py3-none-any.whl size=1498562 sha256=3ebb1e0fcd140e8e1bb4fbdc87e5b3defea56fcb26e1325467e0ca39ab227df0\n",
      "  Stored in directory: c:\\users\\rifai\\appdata\\local\\pip\\cache\\wheels\\e2\\32\\99\\2f648da8966cd72055d750fe028e6b83e848cd525462584c16\n",
      "Successfully built jax\n",
      "Installing collected packages: libclang, flatbuffers, termcolor, tensorflow-io-gcs-filesystem, tensorflow-estimator, tensorboard-data-server, rsa, protobuf, opt-einsum, oauthlib, ml-dtypes, keras, grpcio, google-pasta, gast, cachetools, astunparse, absl-py, requests-oauthlib, jax, google-auth, google-auth-oauthlib, tensorboard, tensorflow-intel, tensorflow\n",
      "Successfully installed absl-py-1.4.0 astunparse-1.6.3 cachetools-5.3.1 flatbuffers-23.5.26 gast-0.4.0 google-auth-2.20.0 google-auth-oauthlib-1.0.0 google-pasta-0.2.0 grpcio-1.54.2 jax-0.4.12 keras-2.12.0 libclang-16.0.0 ml-dtypes-0.2.0 oauthlib-3.2.2 opt-einsum-3.3.0 protobuf-4.23.3 requests-oauthlib-1.3.1 rsa-4.9 tensorboard-2.12.3 tensorboard-data-server-0.7.1 tensorflow-2.12.0 tensorflow-estimator-2.12.0 tensorflow-intel-2.12.0 tensorflow-io-gcs-filesystem-0.31.0 termcolor-2.3.0\n"
     ]
    }
   ],
   "source": [
    "!pip install tensorflow"
   ]
  },
  {
   "cell_type": "code",
   "execution_count": 32,
   "id": "1a3fcfb5",
   "metadata": {},
   "outputs": [
    {
     "data": {
      "text/html": [
       "<div>\n",
       "<style scoped>\n",
       "    .dataframe tbody tr th:only-of-type {\n",
       "        vertical-align: middle;\n",
       "    }\n",
       "\n",
       "    .dataframe tbody tr th {\n",
       "        vertical-align: top;\n",
       "    }\n",
       "\n",
       "    .dataframe thead th {\n",
       "        text-align: right;\n",
       "    }\n",
       "</style>\n",
       "<table border=\"1\" class=\"dataframe\">\n",
       "  <thead>\n",
       "    <tr style=\"text-align: right;\">\n",
       "      <th></th>\n",
       "      <th>content</th>\n",
       "      <th>label</th>\n",
       "    </tr>\n",
       "  </thead>\n",
       "  <tbody>\n",
       "    <tr>\n",
       "      <th>0</th>\n",
       "      <td>kode otp gak masuk masuk, udah update terbaru,...</td>\n",
       "      <td>Negatif</td>\n",
       "    </tr>\n",
       "    <tr>\n",
       "      <th>1</th>\n",
       "      <td>Dulu: Banyak bonus. Bisa pesan lintas kota. ku...</td>\n",
       "      <td>Positif</td>\n",
       "    </tr>\n",
       "    <tr>\n",
       "      <th>2</th>\n",
       "      <td>Driver2nya bs antar dg tepat, ga bingung arah ...</td>\n",
       "      <td>Positif</td>\n",
       "    </tr>\n",
       "    <tr>\n",
       "      <th>3</th>\n",
       "      <td>Akan lebih baik jika lokasi tidak disetting ot...</td>\n",
       "      <td>Negatif</td>\n",
       "    </tr>\n",
       "    <tr>\n",
       "      <th>4</th>\n",
       "      <td>Performa makin lama makin menurun dan harga yg...</td>\n",
       "      <td>Negatif</td>\n",
       "    </tr>\n",
       "    <tr>\n",
       "      <th>...</th>\n",
       "      <td>...</td>\n",
       "      <td>...</td>\n",
       "    </tr>\n",
       "    <tr>\n",
       "      <th>95</th>\n",
       "      <td>gojek semakin diupdate malah semakin gak beres...</td>\n",
       "      <td>Negatif</td>\n",
       "    </tr>\n",
       "    <tr>\n",
       "      <th>96</th>\n",
       "      <td>Ada apa dengan driver, ketika pesan antar gofo...</td>\n",
       "      <td>Negatif</td>\n",
       "    </tr>\n",
       "    <tr>\n",
       "      <th>97</th>\n",
       "      <td>Aplikasi yang makin kesini makin buruk,mulai d...</td>\n",
       "      <td>Negatif</td>\n",
       "    </tr>\n",
       "    <tr>\n",
       "      <th>98</th>\n",
       "      <td>Ini aplikasi gojek tampilan nya kenapa pula, t...</td>\n",
       "      <td>Negatif</td>\n",
       "    </tr>\n",
       "    <tr>\n",
       "      <th>99</th>\n",
       "      <td>Kecewa bgt sama apk ini padahal pemakain cukup...</td>\n",
       "      <td>Negatif</td>\n",
       "    </tr>\n",
       "  </tbody>\n",
       "</table>\n",
       "<p>100 rows × 2 columns</p>\n",
       "</div>"
      ],
      "text/plain": [
       "                                              content    label\n",
       "0   kode otp gak masuk masuk, udah update terbaru,...  Negatif\n",
       "1   Dulu: Banyak bonus. Bisa pesan lintas kota. ku...  Positif\n",
       "2   Driver2nya bs antar dg tepat, ga bingung arah ...  Positif\n",
       "3   Akan lebih baik jika lokasi tidak disetting ot...  Negatif\n",
       "4   Performa makin lama makin menurun dan harga yg...  Negatif\n",
       "..                                                ...      ...\n",
       "95  gojek semakin diupdate malah semakin gak beres...  Negatif\n",
       "96  Ada apa dengan driver, ketika pesan antar gofo...  Negatif\n",
       "97  Aplikasi yang makin kesini makin buruk,mulai d...  Negatif\n",
       "98  Ini aplikasi gojek tampilan nya kenapa pula, t...  Negatif\n",
       "99  Kecewa bgt sama apk ini padahal pemakain cukup...  Negatif\n",
       "\n",
       "[100 rows x 2 columns]"
      ]
     },
     "execution_count": 32,
     "metadata": {},
     "output_type": "execute_result"
    }
   ],
   "source": [
    "data = pd.read_csv('data_review_gojek_apps.csv')\n",
    "data.head(100)"
   ]
  },
  {
   "cell_type": "code",
   "execution_count": 34,
   "id": "85a986f7",
   "metadata": {},
   "outputs": [
    {
     "name": "stdout",
     "output_type": "stream",
     "text": [
      "0    kode otp gak masuk masuk, udah update terbaru,...\n",
      "1    Dulu: Banyak bonus. Bisa pesan lintas kota. ku...\n",
      "2    Driver2nya bs antar dg tepat, ga bingung arah ...\n",
      "3    Akan lebih baik jika lokasi tidak disetting ot...\n",
      "4    Performa makin lama makin menurun dan harga yg...\n",
      "5    Aplikasi tokai. Makin lama makin menurun perfo...\n",
      "6    Pemesanan go-food kurang memuaskan,sistem kupo...\n",
      "7    Untuk gofood Kenapa driver yang dipilih itu bu...\n",
      "8    Semakin Update versi semakin memperbanyak Pera...\n",
      "9    Sistem upgrade plus yg sangat buruk. Cuma bisa...\n",
      "Name: content, dtype: object [0, 1, 1, 0, 0, 0, 0, 0, 1, 0]\n"
     ]
    }
   ],
   "source": [
    "# convert label\n",
    "\n",
    "y = [ 0 if i=='Negatif' else 1 for i in data ['label']]\n",
    "x = data['content']\n",
    "print(x[:10], y[:10])"
   ]
  },
  {
   "cell_type": "code",
   "execution_count": 35,
   "id": "71c14356",
   "metadata": {},
   "outputs": [],
   "source": [
    "#split data\n",
    "\n",
    "X_train, X_test, y_train, y_test = train_test_split(x, y, test_size=0.3)"
   ]
  },
  {
   "cell_type": "code",
   "execution_count": 37,
   "id": "214c40e0",
   "metadata": {},
   "outputs": [
    {
     "name": "stdout",
     "output_type": "stream",
     "text": [
      "[[   0 8608]\n",
      " [   1 4868]]\n"
     ]
    }
   ],
   "source": [
    "(unique, counts) = np.unique(y_test, return_counts=True)\n",
    "frequencies = np.asarray((unique, counts)).T\n",
    "print(frequencies)"
   ]
  },
  {
   "cell_type": "markdown",
   "id": "6702d6e5",
   "metadata": {},
   "source": [
    "#### Model Configuration"
   ]
  },
  {
   "cell_type": "code",
   "execution_count": 38,
   "id": "01bdf7a7",
   "metadata": {},
   "outputs": [],
   "source": [
    "vocab_size = 300000\n",
    "embedding_dim = 16\n",
    "max_length = 20\n",
    "trunc_type = 'post'\n",
    "padding_type = 'post'\n",
    "oov_tok = \"\""
   ]
  },
  {
   "cell_type": "code",
   "execution_count": 46,
   "id": "fcf22e2b",
   "metadata": {},
   "outputs": [],
   "source": [
    "tokenizer = Tokenizer(num_words=vocab_size, oov_token=oov_tok)\n",
    "tokenizer.fit_on_texts(x)\n",
    "\n",
    "sekuens_train = tokenizer.texts_to_sequences(X_train)\n",
    "sekuens_test = tokenizer.texts_to_sequences(X_test)\n",
    "\n",
    "padded_train = pad_sequences(sekuens_train, maxlen=max_length, padding=padding_type, truncating=trunc_type)\n",
    "padded_test = pad_sequences(sekuens_test, maxlen=max_length, padding=padding_type, truncating=trunc_type)\n",
    "\n",
    "padded_train = np.array(padded_train)\n",
    "label_train = np.array(y_train)\n",
    "\n",
    "padded_test = np.array(padded_test)\n",
    "label_test = np.array(y_test)"
   ]
  },
  {
   "cell_type": "code",
   "execution_count": 47,
   "id": "04b0fff1",
   "metadata": {},
   "outputs": [],
   "source": [
    "import tensorflow as tf\n",
    "model = tf.keras.Sequential([\n",
    "    tf.keras.layers.Embedding(vocab_size, embedding_dim, input_length=max_length),\n",
    "    tf.keras.layers.Dropout(0.2),\n",
    "    tf.keras.layers.LSTM(64),\n",
    "    tf.keras.layers.Dense(32, activation='relu'),\n",
    "    tf.keras.layers.Dense(1, activation='sigmoid')\n",
    "])\n",
    "model.compile(loss='binary_crossentropy', optimizer='adam', metrics=['accuracy'])"
   ]
  },
  {
   "cell_type": "code",
   "execution_count": 50,
   "id": "668fde9c",
   "metadata": {},
   "outputs": [
    {
     "name": "stdout",
     "output_type": "stream",
     "text": [
      "Epoch 1/20\n",
      "10/10 - 5s - loss: 0.6859 - accuracy: 0.6219 - val_loss: 0.6752 - val_accuracy: 0.6388 - 5s/epoch - 538ms/step\n",
      "Epoch 2/20\n",
      "10/10 - 2s - loss: 0.6575 - accuracy: 0.6656 - val_loss: 0.6462 - val_accuracy: 0.6388 - 2s/epoch - 231ms/step\n",
      "Epoch 3/20\n",
      "10/10 - 2s - loss: 0.6291 - accuracy: 0.6500 - val_loss: 0.6369 - val_accuracy: 0.6388 - 2s/epoch - 219ms/step\n",
      "Epoch 4/20\n",
      "10/10 - 2s - loss: 0.5910 - accuracy: 0.6781 - val_loss: 0.5973 - val_accuracy: 0.6774 - 2s/epoch - 215ms/step\n",
      "Epoch 5/20\n",
      "10/10 - 2s - loss: 0.5972 - accuracy: 0.6531 - val_loss: 0.5563 - val_accuracy: 0.7191 - 2s/epoch - 223ms/step\n",
      "Epoch 6/20\n",
      "10/10 - 2s - loss: 0.4873 - accuracy: 0.7906 - val_loss: 0.4885 - val_accuracy: 0.7835 - 2s/epoch - 222ms/step\n",
      "Epoch 7/20\n",
      "10/10 - 2s - loss: 0.4836 - accuracy: 0.7781 - val_loss: 0.4474 - val_accuracy: 0.8160 - 2s/epoch - 230ms/step\n",
      "Epoch 8/20\n",
      "10/10 - 2s - loss: 0.4268 - accuracy: 0.8375 - val_loss: 0.4002 - val_accuracy: 0.8350 - 2s/epoch - 221ms/step\n",
      "Epoch 9/20\n",
      "10/10 - 2s - loss: 0.4151 - accuracy: 0.8219 - val_loss: 0.3914 - val_accuracy: 0.8374 - 2s/epoch - 217ms/step\n",
      "Epoch 10/20\n",
      "10/10 - 2s - loss: 0.4320 - accuracy: 0.8031 - val_loss: 0.3802 - val_accuracy: 0.8471 - 2s/epoch - 224ms/step\n",
      "Epoch 11/20\n",
      "10/10 - 2s - loss: 0.3634 - accuracy: 0.8656 - val_loss: 0.3668 - val_accuracy: 0.8491 - 2s/epoch - 216ms/step\n",
      "Epoch 12/20\n",
      "10/10 - 2s - loss: 0.3738 - accuracy: 0.8344 - val_loss: 0.3709 - val_accuracy: 0.8511 - 2s/epoch - 216ms/step\n",
      "Epoch 13/20\n",
      "10/10 - 2s - loss: 0.3501 - accuracy: 0.8687 - val_loss: 0.3596 - val_accuracy: 0.8530 - 2s/epoch - 218ms/step\n",
      "Epoch 14/20\n",
      "10/10 - 2s - loss: 0.3508 - accuracy: 0.8500 - val_loss: 0.3577 - val_accuracy: 0.8551 - 2s/epoch - 219ms/step\n",
      "Epoch 15/20\n",
      "10/10 - 3s - loss: 0.2962 - accuracy: 0.8875 - val_loss: 0.3795 - val_accuracy: 0.8514 - 3s/epoch - 293ms/step\n",
      "Epoch 16/20\n",
      "10/10 - 3s - loss: 0.4526 - accuracy: 0.8188 - val_loss: 0.3696 - val_accuracy: 0.8581 - 3s/epoch - 301ms/step\n",
      "Epoch 17/20\n",
      "10/10 - 3s - loss: 0.3994 - accuracy: 0.8469 - val_loss: 0.3739 - val_accuracy: 0.8603 - 3s/epoch - 307ms/step\n",
      "Epoch 18/20\n",
      "10/10 - 3s - loss: 0.3654 - accuracy: 0.8469 - val_loss: 0.3610 - val_accuracy: 0.8551 - 3s/epoch - 302ms/step\n",
      "Epoch 19/20\n",
      "10/10 - 3s - loss: 0.3643 - accuracy: 0.8562 - val_loss: 0.3517 - val_accuracy: 0.8585 - 3s/epoch - 295ms/step\n",
      "Epoch 20/20\n",
      "10/10 - 3s - loss: 0.3708 - accuracy: 0.8594 - val_loss: 0.3506 - val_accuracy: 0.8619 - 3s/epoch - 297ms/step\n"
     ]
    }
   ],
   "source": [
    "history = model.fit(padded_train, label_train, epochs=20,\n",
    "                   batch_size=32, validation_data=(padded_test, label_test),\n",
    "                   steps_per_epoch=10, verbose=2)"
   ]
  },
  {
   "cell_type": "code",
   "execution_count": 51,
   "id": "dfb56235",
   "metadata": {},
   "outputs": [
    {
     "data": {
      "image/png": "[encoded data removed]",
      "text/plain": [
       "<Figure size 640x480 with 1 Axes>"
      ]
     },
     "metadata": {},
     "output_type": "display_data"
    },
    {
     "data": {
      "image/png": "[encoded data removed]",
      "text/plain": [
       "<Figure size 640x480 with 1 Axes>"
      ]
     },
     "metadata": {},
     "output_type": "display_data"
    }
   ],
   "source": [
    "acc = history.history['accuracy']\n",
    "val_acc = history.history['val_accuracy']\n",
    "loss = history.history['loss']\n",
    "val_loss = history.history['val_loss']\n",
    "\n",
    "epochs = range(len(acc)) # Get number of epochs\n",
    "\n",
    "plt.plot(epochs, acc, 'r', label='Training accuracy')\n",
    "plt.plot(epochs, val_acc, 'b', label='Validation accuracy')\n",
    "plt.title('Training and validation accuracy')\n",
    "plt.legend()\n",
    "plt.figure()\n",
    "\n",
    "plt.plot(epochs, loss, 'r', label='Training loss')\n",
    "plt.plot(epochs, val_loss, 'b', label='Validation loss')\n",
    "plt.title('Training and validation loss')\n",
    "plt.legend()\n",
    "\n",
    "plt.show()"
   ]
  },
  {
   "cell_type": "markdown",
   "id": "25728ecc",
   "metadata": {},
   "source": [
    "### Confusion Matrix"
   ]
  },
  {
   "cell_type": "code",
   "execution_count": 52,
   "id": "b2de39ad",
   "metadata": {},
   "outputs": [
    {
     "name": "stdout",
     "output_type": "stream",
     "text": [
      "422/422 [==============================] - 2s 4ms/step\n"
     ]
    },
    {
     "data": {
      "text/plain": [
       "array([[1.],\n",
       "       [0.],\n",
       "       [1.],\n",
       "       ...,\n",
       "       [0.],\n",
       "       [0.],\n",
       "       [1.]], dtype=float32)"
      ]
     },
     "execution_count": 52,
     "metadata": {},
     "output_type": "execute_result"
    }
   ],
   "source": [
    "y_pred = np.rint(model.predict(padded_test))\n",
    "y_pred"
   ]
  },
  {
   "cell_type": "code",
   "execution_count": 53,
   "id": "96743d48",
   "metadata": {},
   "outputs": [
    {
     "data": {
      "text/plain": [
       "<tf.Tensor: shape=(2, 2), dtype=int32, numpy=\n",
       "array([[8201,  407],\n",
       "       [1454, 3414]])>"
      ]
     },
     "execution_count": 53,
     "metadata": {},
     "output_type": "execute_result"
    }
   ],
   "source": [
    "cm = tf.math.confusion_matrix(labels=label_test, predictions=y_pred)\n",
    "cm"
   ]
  },
  {
   "cell_type": "code",
   "execution_count": 54,
   "id": "23b05bf3",
   "metadata": {},
   "outputs": [
    {
     "data": {
      "image/png": "[encoded data removed]",
      "text/plain": [
       "<Figure size 800x800 with 2 Axes>"
      ]
     },
     "metadata": {},
     "output_type": "display_data"
    }
   ],
   "source": [
    "import seaborn as sns\n",
    "figure = plt.figure(figsize=(8, 8))\n",
    "ax = plt.subplot()\n",
    "data = np.asarray(cm).reshape(2,2)\n",
    "\n",
    "sns.heatmap(data, annot=True, cmap=plt.cm.Blues, ax=ax)\n",
    "plt.tight_layout()\n",
    "plt.ylabel('True Label')\n",
    "plt.xlabel('Predicted Label')\n",
    "plt.show()"
   ]
  },
  {
   "cell_type": "markdown",
   "id": "1aab6553",
   "metadata": {},
   "source": [
    "### Pengujian Sentimen Menggunakan Model"
   ]
  },
  {
   "cell_type": "code",
   "execution_count": 55,
   "id": "24aac195",
   "metadata": {},
   "outputs": [
    {
     "name": "stdout",
     "output_type": "stream",
     "text": [
      "1/1 [==============================] - 0s 26ms/step\n",
      "[[1.]]\n"
     ]
    }
   ],
   "source": [
    "# test sentimen\n",
    "sentence = ['gojek sangat membantu dan sangat bermanfaat']\n",
    "sequences = tokenizer.texts_to_sequences(sentence)\n",
    "padded = pad_sequences(sequences, maxlen=max_length, padding=padding_type, truncating=trunc_type)\n",
    "print(np.rint(model.predict(padded)))"
   ]
  },
  {
   "cell_type": "code",
   "execution_count": null,
   "id": "831c12d9",
   "metadata": {},
   "outputs": [],
   "source": []
  }
 ],
 "metadata": {
  "kernelspec": {
   "display_name": "Python 3 (ipykernel)",
   "language": "python",
   "name": "python3"
  },
  "language_info": {
   "codemirror_mode": {
    "name": "ipython",
    "version": 3
   },
   "file_extension": ".py",
   "mimetype": "text/x-python",
   "name": "python",
   "nbconvert_exporter": "python",
   "pygments_lexer": "ipython3",
   "version": "3.10.9"
  }
 },
 "nbformat": 4,
 "nbformat_minor": 5
}
